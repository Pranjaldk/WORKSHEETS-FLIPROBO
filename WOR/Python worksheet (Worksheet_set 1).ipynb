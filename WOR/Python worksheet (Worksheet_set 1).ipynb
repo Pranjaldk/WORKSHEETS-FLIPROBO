{
 "cells": [
  {
   "cell_type": "markdown",
   "id": "957b293e",
   "metadata": {},
   "source": [
    "# Worsheet_Set 1"
   ]
  },
  {
   "cell_type": "markdown",
   "id": "2d0e323f",
   "metadata": {},
   "source": []
  },
  {
   "cell_type": "markdown",
   "id": "6002976a",
   "metadata": {},
   "source": [
    "# Python Worksheet"
   ]
  },
  {
   "cell_type": "markdown",
   "id": "867f6b3c",
   "metadata": {},
   "source": [
    "Q11 to Q15 are programming questions. Answer them in Jupyter Notebook."
   ]
  },
  {
   "cell_type": "markdown",
   "id": "52274925",
   "metadata": {},
   "source": [
    "11. Write a python program to find the factorial of a number.\n"
   ]
  },
  {
   "cell_type": "code",
   "execution_count": 3,
   "id": "b8c3e6b2",
   "metadata": {},
   "outputs": [
    {
     "name": "stdout",
     "output_type": "stream",
     "text": [
      "Enter the number: 3\n",
      "factorial of  3  (function): 6\n"
     ]
    }
   ],
   "source": [
    "import math\n",
    "num=int(input(\"Enter the number: \"))\n",
    "print(\"factorial of \",num,\" (function): \",end=\"\")\n",
    "print(math.factorial(num))"
   ]
  },
  {
   "cell_type": "markdown",
   "id": "542f7874",
   "metadata": {},
   "source": [
    "12. Write a python program to find whether a number is prime or composite"
   ]
  },
  {
   "cell_type": "code",
   "execution_count": 4,
   "id": "88f7f6c7",
   "metadata": {},
   "outputs": [
    {
     "name": "stdout",
     "output_type": "stream",
     "text": [
      "2\n",
      "It's a prime number\n"
     ]
    }
   ],
   "source": [
    "from math import sqrt\n",
    "\n",
    "n = 0\n",
    "while n < 2:\n",
    "    n = int(input())\n",
    "\n",
    "prime = True\n",
    "\n",
    "i = 2\n",
    "while i <= sqrt(n):\n",
    "    if n % i == 0:\n",
    "        prime = False\n",
    "        break\n",
    "    i += 1\n",
    "\n",
    "if prime:\n",
    "    print(\"It's a prime number\")\n",
    "else:\n",
    "    print(\"This is a composite number\")"
   ]
  },
  {
   "cell_type": "markdown",
   "id": "7a8c7def",
   "metadata": {},
   "source": [
    "13. Write a python program to check whether a given string is palindrome or not."
   ]
  },
  {
   "cell_type": "code",
   "execution_count": 7,
   "id": "086fcaa2",
   "metadata": {},
   "outputs": [
    {
     "name": "stdout",
     "output_type": "stream",
     "text": [
      "NOT PALINDROME !\n"
     ]
    }
   ],
   "source": [
    "str = 'Python'  \n",
    "strstr = str.casefold()  \n",
    "  \n",
    "# This string is reverse.  \n",
    "rev = reversed(str)  \n",
    "  \n",
    "if list(str) == list(rev):  \n",
    "   print(\"PALINDROME !\")  \n",
    "else:  \n",
    "   print(\"NOT PALINDROME !\")  "
   ]
  },
  {
   "cell_type": "markdown",
   "id": "8c4e7548",
   "metadata": {},
   "source": [
    "14. Write a Python program to get the third side of right-angled triangle from two given side"
   ]
  },
  {
   "cell_type": "code",
   "execution_count": 8,
   "id": "2beeef08",
   "metadata": {},
   "outputs": [
    {
     "name": "stdout",
     "output_type": "stream",
     "text": [
      "Enter base: 10\n",
      "Enter height: 15\n",
      "Enter angle: 12\n",
      "Hypotenuse = 18.027756377319946\n"
     ]
    }
   ],
   "source": [
    "import math\n",
    "\n",
    "a = float(input(\"Enter base: \"))\n",
    "b = float(input(\"Enter height: \"))\n",
    "x = float(input(\"Enter angle: \"))\n",
    "\n",
    "c = math.sqrt(a ** 2 + b ** 2)\n",
    "\n",
    "print(\"Hypotenuse =\", c)"
   ]
  },
  {
   "cell_type": "markdown",
   "id": "0a55a280",
   "metadata": {},
   "source": [
    "15. Write a python program to print the frequency of each of the characters present in a given string"
   ]
  },
  {
   "cell_type": "code",
   "execution_count": 9,
   "id": "208bd277",
   "metadata": {},
   "outputs": [
    {
     "name": "stdout",
     "output_type": "stream",
     "text": [
      "{'g': 2, 'o': 3, 'l': 1, 'e': 1, '.': 1, 'c': 1, 'm': 1}\n"
     ]
    }
   ],
   "source": [
    "def char_frequency(str1):\n",
    "    dict = {}\n",
    "    for n in str1:\n",
    "        keys = dict.keys()\n",
    "        if n in keys:\n",
    "            dict[n] += 1\n",
    "        else:\n",
    "            dict[n] = 1\n",
    "    return dict\n",
    "print(char_frequency('google.com'))"
   ]
  },
  {
   "cell_type": "code",
   "execution_count": null,
   "id": "74dde9c4",
   "metadata": {},
   "outputs": [],
   "source": []
  }
 ],
 "metadata": {
  "kernelspec": {
   "display_name": "Python 3 (ipykernel)",
   "language": "python",
   "name": "python3"
  },
  "language_info": {
   "codemirror_mode": {
    "name": "ipython",
    "version": 3
   },
   "file_extension": ".py",
   "mimetype": "text/x-python",
   "name": "python",
   "nbconvert_exporter": "python",
   "pygments_lexer": "ipython3",
   "version": "3.9.12"
  }
 },
 "nbformat": 4,
 "nbformat_minor": 5
}
